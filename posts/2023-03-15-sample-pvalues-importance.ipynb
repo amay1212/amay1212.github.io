{
 "cells": [
  {
   "cell_type": "raw",
   "metadata": {},
   "source": [
    "---\n",
    "aliases:\n",
    "- /2023/03/15/sample-pvalues-importance\n",
    "date: '2023-03-15'\n",
    "author: 'Amay Trivedi'\n",
    "categories: [Data Science, AI, Machine Learning]\n",
    "---\n",
    "![](/hypo.jpeg)\n",
    "\n"
   ]
  },
  {
   "cell_type": "markdown",
   "id": "b01aeacd",
   "metadata": {},
   "source": [
    "### Hypothesis Testing"
   ]
  },
  {
   "cell_type": "markdown",
   "id": "1abfca5f",
   "metadata": {},
   "source": [
    "Hypothesis testing is simply a claim made to prove our point. The assumption we make to prove the claim through statistical measures and most importantly, by **REJECTING THE NULL HYPOTHESIS**\n",
    "\n",
    "For example:\n",
    "\n",
    "In TV series \"Breaking Bad\", Walter White claiming, the meth is 99.9% pure. This can be termed as a hypothesis. In order to prove this, we first have to conduct test so that we can agree on Walter's assumption. Therefore, Jesse pinkman generates a test for the same. \n",
    "\n",
    "Let us assume Jesse will be profitable if the meth is more than 95% pure\n",
    "\n",
    "* First assumption or NULL Hypothesis: The meth is less than or equal to 95% pure\n",
    "\n",
    "* Second assumption or opposite to the claim assumption is: The meth is greater than 95% pure\n",
    "\n",
    "Well, let's assume we are jesse pinkman (a character from breaking bad), who has to decide if Walter is correct or not.\n",
    "\n",
    "**Hence, Jesse will come up with two hypothesis in a statistical manner as he wants to make profit based on his business. He then introduced two parameters as H0 (Null Hypothesis) and Ha (Alternate Hypothesis).**"
   ]
  },
  {
   "attachments": {},
   "cell_type": "markdown",
   "id": "756a7e79",
   "metadata": {},
   "source": [
    "<img src=\"jesse.png\" alt= “” width=\"800\" height=\"500\">"
   ]
  },
  {
   "cell_type": "markdown",
   "id": "e4b74d12",
   "metadata": {},
   "source": [
    "**Statistics Jargon**\n",
    "\n",
    "Hypothesis testing in statistics is a way for you to test the results of a survey or experiment to see if you have meaningful results. You’re basically testing whether your results are valid by figuring out the odds that your results have happened by chance. If your results may have happened by chance, the experiment won’t be repeatable and so has little use.\n",
    "\n"
   ]
  },
  {
   "cell_type": "markdown",
   "id": "d8397397",
   "metadata": {},
   "source": [
    "### Finally, this is our hypothesis \n",
    "\n",
    "### H0 - Purity of Meth <= 95%\n",
    "### Ha - Purity of Meth > 95%"
   ]
  },
  {
   "cell_type": "code",
   "execution_count": 81,
   "id": "37f9fed0",
   "metadata": {},
   "outputs": [],
   "source": [
    "import numpy as np\n",
    "import matplotlib.pyplot as plt\n",
    "%matplotlib inline\n",
    "# stats library\n",
    "import scipy.stats as st"
   ]
  },
  {
   "cell_type": "code",
   "execution_count": 59,
   "id": "792f5c66",
   "metadata": {},
   "outputs": [],
   "source": [
    "# Let's say Jesse took some samples and noticed percentage of purity coming as the following..\n",
    "sample_units_size = 20\n",
    "percentages_of_purity = np.array([87, 88, 90, 91, 92, 93, 94, 94, 95, \n",
    "                                  96, 97, 97, 98, 98, 99, 99, 99, 99, 100, 100])"
   ]
  },
  {
   "cell_type": "markdown",
   "id": "71d14de8",
   "metadata": {},
   "source": [
    "We now have our mean and standard deviation of sample"
   ]
  },
  {
   "cell_type": "code",
   "execution_count": 60,
   "id": "23552a25",
   "metadata": {},
   "outputs": [
    {
     "data": {
      "text/plain": [
       "(95.3, 3.9255572852781047)"
      ]
     },
     "execution_count": 60,
     "metadata": {},
     "output_type": "execute_result"
    }
   ],
   "source": [
    "mean_of_sample = percentages_of_purity.mean()\n",
    "std_dev = percentages_of_purity.std()\n",
    "mean_of_sample, std_dev"
   ]
  },
  {
   "cell_type": "markdown",
   "id": "834971fc",
   "metadata": {},
   "source": [
    "### Importing Libraries"
   ]
  },
  {
   "cell_type": "code",
   "execution_count": 76,
   "id": "50e39d19",
   "metadata": {},
   "outputs": [],
   "source": [
    "import matplotlib.pyplot as plt\n",
    "import pandas as pd\n",
    "data = percentages_of_purity\n",
    "mean = np.mean(data)\n",
    "std_dev = np.std(data)"
   ]
  },
  {
   "cell_type": "code",
   "execution_count": 51,
   "id": "499a44ab",
   "metadata": {},
   "outputs": [],
   "source": [
    "# We check how many data points actually lie beyond 95%..\n",
    "filtered_list = [data for data in percentages_of_purity if data < 95]"
   ]
  },
  {
   "cell_type": "code",
   "execution_count": 54,
   "id": "190bfa15",
   "metadata": {},
   "outputs": [
    {
     "data": {
      "text/plain": [
       "40.0"
      ]
     },
     "execution_count": 54,
     "metadata": {},
     "output_type": "execute_result"
    }
   ],
   "source": [
    "(len(filtered_list)/len(data)) * 100"
   ]
  },
  {
   "cell_type": "markdown",
   "id": "cdd1a544",
   "metadata": {},
   "source": [
    "#### Analysis:\n",
    "40% of our data points are actually lying beyond 95%. This can mean that even though our mean value is 95.3, we can get a much higher p value. Lets check.."
   ]
  },
  {
   "cell_type": "code",
   "execution_count": 57,
   "id": "27e0781d",
   "metadata": {},
   "outputs": [
    {
     "data": {
      "text/plain": [
       "Ttest_1sampResult(statistic=0.33311695334731267, pvalue=0.37134689315519337)"
      ]
     },
     "execution_count": 57,
     "metadata": {},
     "output_type": "execute_result"
    }
   ],
   "source": [
    "# Formulating our hypothesis...\n",
    "st.ttest_1samp(percentages_of_purity,95,alternative='greater')"
   ]
  },
  {
   "cell_type": "markdown",
   "id": "b1366d94",
   "metadata": {},
   "source": [
    "**Our p-value comes out to be 0.37. Hence, our analaysis seems to be correct so as to prove why is this happening**\n"
   ]
  },
  {
   "cell_type": "markdown",
   "id": "81f687ff",
   "metadata": {},
   "source": [
    "#### Conclusion\n",
    "\n",
    "We fail to reject the null hypothesis, and therefore this means we would need more evidence or samples to conclude that the meth is more than 95% pure. Hence, we cannot reject the null hypothesis and Jesse cannot sell this into the market until he conducts more tests."
   ]
  },
  {
   "attachments": {},
   "cell_type": "markdown",
   "id": "4d750c4c",
   "metadata": {},
   "source": [
    "<img src=\"jesse-frustrated.png\" alt= “” width=\"500\" height=\"300\">"
   ]
  },
  {
   "cell_type": "markdown",
   "id": "b50d8489",
   "metadata": {},
   "source": [
    "#### Let's look further into p-values and their usage in regression"
   ]
  },
  {
   "cell_type": "markdown",
   "id": "f7e2bb2f",
   "metadata": {},
   "source": [
    "### Importance of p-values in Regression"
   ]
  },
  {
   "cell_type": "markdown",
   "id": "80d44bb6",
   "metadata": {},
   "source": [
    "### Importing Libraries"
   ]
  },
  {
   "cell_type": "code",
   "execution_count": 170,
   "id": "98c6084b",
   "metadata": {},
   "outputs": [],
   "source": [
    "import numpy as np\n",
    "import pandas as pd\n",
    "import matplotlib.pyplot as plt\n",
    "import seaborn as sns\n",
    "sns.set()\n",
    "import statsmodels.api as sm"
   ]
  },
  {
   "cell_type": "markdown",
   "id": "c869a795",
   "metadata": {},
   "source": [
    "### Reading data"
   ]
  },
  {
   "cell_type": "markdown",
   "id": "0ce6d255",
   "metadata": {},
   "source": [
    "Link to data: https://github.com/amay1212/amay-trivedi/blob/master/data/reg_dummy_explaination.csv"
   ]
  },
  {
   "cell_type": "code",
   "execution_count": 169,
   "id": "6a2e8ee5",
   "metadata": {},
   "outputs": [],
   "source": [
    "data = pd.read_csv('reg_dummy_explaination.csv')"
   ]
  },
  {
   "cell_type": "code",
   "execution_count": 130,
   "id": "ddbdab64",
   "metadata": {},
   "outputs": [
    {
     "data": {
      "text/html": [
       "<div>\n",
       "<style scoped>\n",
       "    .dataframe tbody tr th:only-of-type {\n",
       "        vertical-align: middle;\n",
       "    }\n",
       "\n",
       "    .dataframe tbody tr th {\n",
       "        vertical-align: top;\n",
       "    }\n",
       "\n",
       "    .dataframe thead th {\n",
       "        text-align: right;\n",
       "    }\n",
       "</style>\n",
       "<table border=\"1\" class=\"dataframe\">\n",
       "  <thead>\n",
       "    <tr style=\"text-align: right;\">\n",
       "      <th></th>\n",
       "      <th>exp</th>\n",
       "      <th>salary</th>\n",
       "      <th>gender</th>\n",
       "    </tr>\n",
       "  </thead>\n",
       "  <tbody>\n",
       "    <tr>\n",
       "      <th>0</th>\n",
       "      <td>2.0</td>\n",
       "      <td>350000</td>\n",
       "      <td>F</td>\n",
       "    </tr>\n",
       "    <tr>\n",
       "      <th>1</th>\n",
       "      <td>2.0</td>\n",
       "      <td>360000</td>\n",
       "      <td>M</td>\n",
       "    </tr>\n",
       "    <tr>\n",
       "      <th>2</th>\n",
       "      <td>4.0</td>\n",
       "      <td>400000</td>\n",
       "      <td>F</td>\n",
       "    </tr>\n",
       "    <tr>\n",
       "      <th>3</th>\n",
       "      <td>4.0</td>\n",
       "      <td>900000</td>\n",
       "      <td>M</td>\n",
       "    </tr>\n",
       "    <tr>\n",
       "      <th>4</th>\n",
       "      <td>5.6</td>\n",
       "      <td>450000</td>\n",
       "      <td>F</td>\n",
       "    </tr>\n",
       "  </tbody>\n",
       "</table>\n",
       "</div>"
      ],
      "text/plain": [
       "   exp  salary gender\n",
       "0  2.0  350000      F\n",
       "1  2.0  360000      M\n",
       "2  4.0  400000      F\n",
       "3  4.0  900000      M\n",
       "4  5.6  450000      F"
      ]
     },
     "execution_count": 130,
     "metadata": {},
     "output_type": "execute_result"
    }
   ],
   "source": [
    "data.head()"
   ]
  },
  {
   "cell_type": "markdown",
   "id": "a4a1b11c",
   "metadata": {},
   "source": [
    "## Solution Process starts from here"
   ]
  },
  {
   "cell_type": "code",
   "execution_count": 131,
   "id": "510ed3b3",
   "metadata": {},
   "outputs": [],
   "source": [
    "df= data.copy()"
   ]
  },
  {
   "cell_type": "code",
   "execution_count": 132,
   "id": "5778cb0d",
   "metadata": {},
   "outputs": [
    {
     "data": {
      "text/html": [
       "<div>\n",
       "<style scoped>\n",
       "    .dataframe tbody tr th:only-of-type {\n",
       "        vertical-align: middle;\n",
       "    }\n",
       "\n",
       "    .dataframe tbody tr th {\n",
       "        vertical-align: top;\n",
       "    }\n",
       "\n",
       "    .dataframe thead th {\n",
       "        text-align: right;\n",
       "    }\n",
       "</style>\n",
       "<table border=\"1\" class=\"dataframe\">\n",
       "  <thead>\n",
       "    <tr style=\"text-align: right;\">\n",
       "      <th></th>\n",
       "      <th>exp</th>\n",
       "      <th>salary</th>\n",
       "      <th>gender</th>\n",
       "    </tr>\n",
       "  </thead>\n",
       "  <tbody>\n",
       "    <tr>\n",
       "      <th>0</th>\n",
       "      <td>2.0</td>\n",
       "      <td>350000</td>\n",
       "      <td>F</td>\n",
       "    </tr>\n",
       "    <tr>\n",
       "      <th>1</th>\n",
       "      <td>2.0</td>\n",
       "      <td>360000</td>\n",
       "      <td>M</td>\n",
       "    </tr>\n",
       "    <tr>\n",
       "      <th>2</th>\n",
       "      <td>4.0</td>\n",
       "      <td>400000</td>\n",
       "      <td>F</td>\n",
       "    </tr>\n",
       "    <tr>\n",
       "      <th>3</th>\n",
       "      <td>4.0</td>\n",
       "      <td>900000</td>\n",
       "      <td>M</td>\n",
       "    </tr>\n",
       "    <tr>\n",
       "      <th>4</th>\n",
       "      <td>5.6</td>\n",
       "      <td>450000</td>\n",
       "      <td>F</td>\n",
       "    </tr>\n",
       "  </tbody>\n",
       "</table>\n",
       "</div>"
      ],
      "text/plain": [
       "   exp  salary gender\n",
       "0  2.0  350000      F\n",
       "1  2.0  360000      M\n",
       "2  4.0  400000      F\n",
       "3  4.0  900000      M\n",
       "4  5.6  450000      F"
      ]
     },
     "execution_count": 132,
     "metadata": {},
     "output_type": "execute_result"
    }
   ],
   "source": [
    "df.head()"
   ]
  },
  {
   "cell_type": "markdown",
   "id": "0e9024b5",
   "metadata": {},
   "source": [
    "Plotting the experience and salary and checking data distribution"
   ]
  },
  {
   "cell_type": "markdown",
   "id": "fb7007f5",
   "metadata": {},
   "source": [
    "### Basic EDA"
   ]
  },
  {
   "cell_type": "code",
   "execution_count": 133,
   "id": "12b4013a",
   "metadata": {},
   "outputs": [],
   "source": [
    "def plot_distribution_scatter(df, x, y, hue=None):\n",
    "    sns.scatterplot(data=df, x=x, y=y,hue=hue)"
   ]
  },
  {
   "cell_type": "code",
   "execution_count": 134,
   "id": "73f2f232",
   "metadata": {},
   "outputs": [
    {
     "data": {
      "image/png": "[encoded data removed]",
      "text/plain": [
       "<Figure size 640x480 with 1 Axes>"
      ]
     },
     "metadata": {},
     "output_type": "display_data"
    }
   ],
   "source": [
    "plot_distribution_scatter(df, df.exp, df.salary, df.gender)"
   ]
  },
  {
   "cell_type": "markdown",
   "id": "57a23cb1",
   "metadata": {},
   "source": [
    "#### Plotting only Gender and Salary, so as to confirm with our P-value later on"
   ]
  },
  {
   "cell_type": "code",
   "execution_count": 168,
   "id": "b10303f6",
   "metadata": {},
   "outputs": [
    {
     "data": {
      "image/png": "[encoded data removed]",
      "text/plain": [
       "<Figure size 640x480 with 1 Axes>"
      ]
     },
     "metadata": {},
     "output_type": "display_data"
    }
   ],
   "source": [
    "sns.boxplot(x = 'gender', y = df.salary, data=df)\n",
    "plt.ticklabel_format(style='plain', axis='y')"
   ]
  },
  {
   "cell_type": "markdown",
   "id": "179a33a1",
   "metadata": {},
   "source": [
    "Seems like salaries of males are greater than female's"
   ]
  },
  {
   "cell_type": "code",
   "execution_count": 135,
   "id": "ba1fb6c7",
   "metadata": {},
   "outputs": [
    {
     "data": {
      "text/html": [
       "<div>\n",
       "<style scoped>\n",
       "    .dataframe tbody tr th:only-of-type {\n",
       "        vertical-align: middle;\n",
       "    }\n",
       "\n",
       "    .dataframe tbody tr th {\n",
       "        vertical-align: top;\n",
       "    }\n",
       "\n",
       "    .dataframe thead th {\n",
       "        text-align: right;\n",
       "    }\n",
       "</style>\n",
       "<table border=\"1\" class=\"dataframe\">\n",
       "  <thead>\n",
       "    <tr style=\"text-align: right;\">\n",
       "      <th></th>\n",
       "      <th>count</th>\n",
       "      <th>mean</th>\n",
       "      <th>std</th>\n",
       "      <th>min</th>\n",
       "      <th>25%</th>\n",
       "      <th>50%</th>\n",
       "      <th>75%</th>\n",
       "      <th>max</th>\n",
       "    </tr>\n",
       "    <tr>\n",
       "      <th>gender</th>\n",
       "      <th></th>\n",
       "      <th></th>\n",
       "      <th></th>\n",
       "      <th></th>\n",
       "      <th></th>\n",
       "      <th></th>\n",
       "      <th></th>\n",
       "      <th></th>\n",
       "    </tr>\n",
       "  </thead>\n",
       "  <tbody>\n",
       "    <tr>\n",
       "      <th>F</th>\n",
       "      <td>20.0</td>\n",
       "      <td>958750.0</td>\n",
       "      <td>1.076212e+06</td>\n",
       "      <td>100000.0</td>\n",
       "      <td>400000.0</td>\n",
       "      <td>600000.0</td>\n",
       "      <td>1025000.0</td>\n",
       "      <td>5000000.0</td>\n",
       "    </tr>\n",
       "    <tr>\n",
       "      <th>M</th>\n",
       "      <td>20.0</td>\n",
       "      <td>1478500.0</td>\n",
       "      <td>1.406351e+06</td>\n",
       "      <td>130000.0</td>\n",
       "      <td>712500.0</td>\n",
       "      <td>985000.0</td>\n",
       "      <td>2150000.0</td>\n",
       "      <td>6500000.0</td>\n",
       "    </tr>\n",
       "  </tbody>\n",
       "</table>\n",
       "</div>"
      ],
      "text/plain": [
       "        count       mean           std       min       25%       50%  \\\n",
       "gender                                                                 \n",
       "F        20.0   958750.0  1.076212e+06  100000.0  400000.0  600000.0   \n",
       "M        20.0  1478500.0  1.406351e+06  130000.0  712500.0  985000.0   \n",
       "\n",
       "              75%        max  \n",
       "gender                        \n",
       "F       1025000.0  5000000.0  \n",
       "M       2150000.0  6500000.0  "
      ]
     },
     "execution_count": 135,
     "metadata": {},
     "output_type": "execute_result"
    }
   ],
   "source": [
    "# Checking the difference between the salaries..\n",
    "#df.head()\n",
    "grouped_by_gender = df.groupby('gender')\n",
    "grouped_by_gender['salary'].describe()"
   ]
  },
  {
   "cell_type": "code",
   "execution_count": 136,
   "id": "7bf66d10",
   "metadata": {},
   "outputs": [
    {
     "name": "stdout",
     "output_type": "stream",
     "text": [
      "Difference in salaries = 519750.0\n"
     ]
    }
   ],
   "source": [
    "male_salary = grouped_by_gender['salary'].mean()[1]\n",
    "female_salary = grouped_by_gender['salary'].mean()[0]\n",
    "difference = male_salary - female_salary\n",
    "print(f'Difference in salaries = {difference}')"
   ]
  },
  {
   "cell_type": "markdown",
   "id": "2ee7d17e",
   "metadata": {},
   "source": [
    "#### Separating out the independent and dependent variable"
   ]
  },
  {
   "cell_type": "code",
   "execution_count": 137,
   "id": "49197203",
   "metadata": {},
   "outputs": [
    {
     "data": {
      "text/html": [
       "<div>\n",
       "<style scoped>\n",
       "    .dataframe tbody tr th:only-of-type {\n",
       "        vertical-align: middle;\n",
       "    }\n",
       "\n",
       "    .dataframe tbody tr th {\n",
       "        vertical-align: top;\n",
       "    }\n",
       "\n",
       "    .dataframe thead th {\n",
       "        text-align: right;\n",
       "    }\n",
       "</style>\n",
       "<table border=\"1\" class=\"dataframe\">\n",
       "  <thead>\n",
       "    <tr style=\"text-align: right;\">\n",
       "      <th></th>\n",
       "      <th>exp</th>\n",
       "      <th>salary</th>\n",
       "      <th>gender</th>\n",
       "    </tr>\n",
       "  </thead>\n",
       "  <tbody>\n",
       "    <tr>\n",
       "      <th>0</th>\n",
       "      <td>2.0</td>\n",
       "      <td>350000</td>\n",
       "      <td>F</td>\n",
       "    </tr>\n",
       "    <tr>\n",
       "      <th>1</th>\n",
       "      <td>2.0</td>\n",
       "      <td>360000</td>\n",
       "      <td>M</td>\n",
       "    </tr>\n",
       "    <tr>\n",
       "      <th>2</th>\n",
       "      <td>4.0</td>\n",
       "      <td>400000</td>\n",
       "      <td>F</td>\n",
       "    </tr>\n",
       "    <tr>\n",
       "      <th>3</th>\n",
       "      <td>4.0</td>\n",
       "      <td>900000</td>\n",
       "      <td>M</td>\n",
       "    </tr>\n",
       "    <tr>\n",
       "      <th>4</th>\n",
       "      <td>5.6</td>\n",
       "      <td>450000</td>\n",
       "      <td>F</td>\n",
       "    </tr>\n",
       "  </tbody>\n",
       "</table>\n",
       "</div>"
      ],
      "text/plain": [
       "   exp  salary gender\n",
       "0  2.0  350000      F\n",
       "1  2.0  360000      M\n",
       "2  4.0  400000      F\n",
       "3  4.0  900000      M\n",
       "4  5.6  450000      F"
      ]
     },
     "execution_count": 137,
     "metadata": {},
     "output_type": "execute_result"
    }
   ],
   "source": [
    "df.head()"
   ]
  },
  {
   "cell_type": "code",
   "execution_count": 138,
   "id": "6372650a",
   "metadata": {},
   "outputs": [],
   "source": [
    "x1 = df.iloc[:, [0,2]]\n",
    "y = df.iloc[:, 1]"
   ]
  },
  {
   "cell_type": "code",
   "execution_count": 139,
   "id": "d28f653c",
   "metadata": {},
   "outputs": [
    {
     "data": {
      "text/plain": [
       "0    350000\n",
       "1    360000\n",
       "2    400000\n",
       "3    900000\n",
       "4    450000\n",
       "Name: salary, dtype: int64"
      ]
     },
     "execution_count": 139,
     "metadata": {},
     "output_type": "execute_result"
    }
   ],
   "source": [
    "y.head()"
   ]
  },
  {
   "cell_type": "code",
   "execution_count": 141,
   "id": "2fc661a2",
   "metadata": {},
   "outputs": [
    {
     "data": {
      "text/html": [
       "<div>\n",
       "<style scoped>\n",
       "    .dataframe tbody tr th:only-of-type {\n",
       "        vertical-align: middle;\n",
       "    }\n",
       "\n",
       "    .dataframe tbody tr th {\n",
       "        vertical-align: top;\n",
       "    }\n",
       "\n",
       "    .dataframe thead th {\n",
       "        text-align: right;\n",
       "    }\n",
       "</style>\n",
       "<table border=\"1\" class=\"dataframe\">\n",
       "  <thead>\n",
       "    <tr style=\"text-align: right;\">\n",
       "      <th></th>\n",
       "      <th>exp</th>\n",
       "      <th>gender</th>\n",
       "    </tr>\n",
       "  </thead>\n",
       "  <tbody>\n",
       "    <tr>\n",
       "      <th>0</th>\n",
       "      <td>2.0</td>\n",
       "      <td>F</td>\n",
       "    </tr>\n",
       "    <tr>\n",
       "      <th>1</th>\n",
       "      <td>2.0</td>\n",
       "      <td>M</td>\n",
       "    </tr>\n",
       "    <tr>\n",
       "      <th>2</th>\n",
       "      <td>4.0</td>\n",
       "      <td>F</td>\n",
       "    </tr>\n",
       "    <tr>\n",
       "      <th>3</th>\n",
       "      <td>4.0</td>\n",
       "      <td>M</td>\n",
       "    </tr>\n",
       "    <tr>\n",
       "      <th>4</th>\n",
       "      <td>5.6</td>\n",
       "      <td>F</td>\n",
       "    </tr>\n",
       "  </tbody>\n",
       "</table>\n",
       "</div>"
      ],
      "text/plain": [
       "   exp gender\n",
       "0  2.0      F\n",
       "1  2.0      M\n",
       "2  4.0      F\n",
       "3  4.0      M\n",
       "4  5.6      F"
      ]
     },
     "execution_count": 141,
     "metadata": {},
     "output_type": "execute_result"
    }
   ],
   "source": [
    "x1.head()"
   ]
  },
  {
   "cell_type": "markdown",
   "id": "b04d41cb",
   "metadata": {},
   "source": [
    "#### Adding constant to x1 data as per stats models library"
   ]
  },
  {
   "cell_type": "code",
   "execution_count": 142,
   "id": "922b2e5c",
   "metadata": {},
   "outputs": [],
   "source": [
    "X = sm.add_constant(x1)"
   ]
  },
  {
   "cell_type": "code",
   "execution_count": 143,
   "id": "2785c542",
   "metadata": {},
   "outputs": [
    {
     "data": {
      "text/html": [
       "<div>\n",
       "<style scoped>\n",
       "    .dataframe tbody tr th:only-of-type {\n",
       "        vertical-align: middle;\n",
       "    }\n",
       "\n",
       "    .dataframe tbody tr th {\n",
       "        vertical-align: top;\n",
       "    }\n",
       "\n",
       "    .dataframe thead th {\n",
       "        text-align: right;\n",
       "    }\n",
       "</style>\n",
       "<table border=\"1\" class=\"dataframe\">\n",
       "  <thead>\n",
       "    <tr style=\"text-align: right;\">\n",
       "      <th></th>\n",
       "      <th>const</th>\n",
       "      <th>exp</th>\n",
       "      <th>gender</th>\n",
       "    </tr>\n",
       "  </thead>\n",
       "  <tbody>\n",
       "    <tr>\n",
       "      <th>0</th>\n",
       "      <td>1.0</td>\n",
       "      <td>2.0</td>\n",
       "      <td>F</td>\n",
       "    </tr>\n",
       "    <tr>\n",
       "      <th>1</th>\n",
       "      <td>1.0</td>\n",
       "      <td>2.0</td>\n",
       "      <td>M</td>\n",
       "    </tr>\n",
       "    <tr>\n",
       "      <th>2</th>\n",
       "      <td>1.0</td>\n",
       "      <td>4.0</td>\n",
       "      <td>F</td>\n",
       "    </tr>\n",
       "    <tr>\n",
       "      <th>3</th>\n",
       "      <td>1.0</td>\n",
       "      <td>4.0</td>\n",
       "      <td>M</td>\n",
       "    </tr>\n",
       "    <tr>\n",
       "      <th>4</th>\n",
       "      <td>1.0</td>\n",
       "      <td>5.6</td>\n",
       "      <td>F</td>\n",
       "    </tr>\n",
       "  </tbody>\n",
       "</table>\n",
       "</div>"
      ],
      "text/plain": [
       "   const  exp gender\n",
       "0    1.0  2.0      F\n",
       "1    1.0  2.0      M\n",
       "2    1.0  4.0      F\n",
       "3    1.0  4.0      M\n",
       "4    1.0  5.6      F"
      ]
     },
     "execution_count": 143,
     "metadata": {},
     "output_type": "execute_result"
    }
   ],
   "source": [
    "X.head()"
   ]
  },
  {
   "cell_type": "markdown",
   "id": "14459fe8",
   "metadata": {},
   "source": [
    "#### Converting 'gender' column to dummy variables "
   ]
  },
  {
   "cell_type": "code",
   "execution_count": 144,
   "id": "2aceb03e",
   "metadata": {},
   "outputs": [
    {
     "data": {
      "text/html": [
       "<div>\n",
       "<style scoped>\n",
       "    .dataframe tbody tr th:only-of-type {\n",
       "        vertical-align: middle;\n",
       "    }\n",
       "\n",
       "    .dataframe tbody tr th {\n",
       "        vertical-align: top;\n",
       "    }\n",
       "\n",
       "    .dataframe thead th {\n",
       "        text-align: right;\n",
       "    }\n",
       "</style>\n",
       "<table border=\"1\" class=\"dataframe\">\n",
       "  <thead>\n",
       "    <tr style=\"text-align: right;\">\n",
       "      <th></th>\n",
       "      <th>const</th>\n",
       "      <th>exp</th>\n",
       "      <th>gender</th>\n",
       "    </tr>\n",
       "  </thead>\n",
       "  <tbody>\n",
       "    <tr>\n",
       "      <th>0</th>\n",
       "      <td>1.0</td>\n",
       "      <td>2.0</td>\n",
       "      <td>F</td>\n",
       "    </tr>\n",
       "    <tr>\n",
       "      <th>1</th>\n",
       "      <td>1.0</td>\n",
       "      <td>2.0</td>\n",
       "      <td>M</td>\n",
       "    </tr>\n",
       "    <tr>\n",
       "      <th>2</th>\n",
       "      <td>1.0</td>\n",
       "      <td>4.0</td>\n",
       "      <td>F</td>\n",
       "    </tr>\n",
       "    <tr>\n",
       "      <th>3</th>\n",
       "      <td>1.0</td>\n",
       "      <td>4.0</td>\n",
       "      <td>M</td>\n",
       "    </tr>\n",
       "    <tr>\n",
       "      <th>4</th>\n",
       "      <td>1.0</td>\n",
       "      <td>5.6</td>\n",
       "      <td>F</td>\n",
       "    </tr>\n",
       "  </tbody>\n",
       "</table>\n",
       "</div>"
      ],
      "text/plain": [
       "   const  exp gender\n",
       "0    1.0  2.0      F\n",
       "1    1.0  2.0      M\n",
       "2    1.0  4.0      F\n",
       "3    1.0  4.0      M\n",
       "4    1.0  5.6      F"
      ]
     },
     "execution_count": 144,
     "metadata": {},
     "output_type": "execute_result"
    }
   ],
   "source": [
    "X.head()"
   ]
  },
  {
   "cell_type": "code",
   "execution_count": 145,
   "id": "ba650464",
   "metadata": {},
   "outputs": [],
   "source": [
    "# This will first convert the gender into one hot encoded form for ex:\n",
    "# 0 for male, 1 for female\n",
    "# After that, it will sort the desired new columns in alphabetical order\n",
    "# drop_first=True, Female gender dummy variable will be dropped as it 'F' in Female comes before 'M' in Male\n",
    "X = pd.get_dummies(X, drop_first=True)"
   ]
  },
  {
   "cell_type": "code",
   "execution_count": 146,
   "id": "f8aa1641",
   "metadata": {},
   "outputs": [
    {
     "data": {
      "text/html": [
       "<div>\n",
       "<style scoped>\n",
       "    .dataframe tbody tr th:only-of-type {\n",
       "        vertical-align: middle;\n",
       "    }\n",
       "\n",
       "    .dataframe tbody tr th {\n",
       "        vertical-align: top;\n",
       "    }\n",
       "\n",
       "    .dataframe thead th {\n",
       "        text-align: right;\n",
       "    }\n",
       "</style>\n",
       "<table border=\"1\" class=\"dataframe\">\n",
       "  <thead>\n",
       "    <tr style=\"text-align: right;\">\n",
       "      <th></th>\n",
       "      <th>const</th>\n",
       "      <th>exp</th>\n",
       "      <th>gender_M</th>\n",
       "    </tr>\n",
       "  </thead>\n",
       "  <tbody>\n",
       "    <tr>\n",
       "      <th>0</th>\n",
       "      <td>1.0</td>\n",
       "      <td>2.0</td>\n",
       "      <td>0</td>\n",
       "    </tr>\n",
       "    <tr>\n",
       "      <th>1</th>\n",
       "      <td>1.0</td>\n",
       "      <td>2.0</td>\n",
       "      <td>1</td>\n",
       "    </tr>\n",
       "    <tr>\n",
       "      <th>2</th>\n",
       "      <td>1.0</td>\n",
       "      <td>4.0</td>\n",
       "      <td>0</td>\n",
       "    </tr>\n",
       "    <tr>\n",
       "      <th>3</th>\n",
       "      <td>1.0</td>\n",
       "      <td>4.0</td>\n",
       "      <td>1</td>\n",
       "    </tr>\n",
       "    <tr>\n",
       "      <th>4</th>\n",
       "      <td>1.0</td>\n",
       "      <td>5.6</td>\n",
       "      <td>0</td>\n",
       "    </tr>\n",
       "  </tbody>\n",
       "</table>\n",
       "</div>"
      ],
      "text/plain": [
       "   const  exp  gender_M\n",
       "0    1.0  2.0         0\n",
       "1    1.0  2.0         1\n",
       "2    1.0  4.0         0\n",
       "3    1.0  4.0         1\n",
       "4    1.0  5.6         0"
      ]
     },
     "execution_count": 146,
     "metadata": {},
     "output_type": "execute_result"
    }
   ],
   "source": [
    "X.head()"
   ]
  },
  {
   "cell_type": "markdown",
   "id": "4be4fe15",
   "metadata": {},
   "source": [
    "#### Fitting the stats model (OLS)"
   ]
  },
  {
   "cell_type": "code",
   "execution_count": 147,
   "id": "eb9c0abe",
   "metadata": {},
   "outputs": [],
   "source": [
    "model = sm.OLS(endog=y, exog=X).fit()"
   ]
  },
  {
   "cell_type": "code",
   "execution_count": 148,
   "id": "f737f97d",
   "metadata": {},
   "outputs": [],
   "source": [
    "#model=sm.OLS(y,X).fit()"
   ]
  },
  {
   "cell_type": "code",
   "execution_count": 149,
   "id": "2d2778da",
   "metadata": {},
   "outputs": [
    {
     "data": {
      "text/html": [
       "<table class=\"simpletable\">\n",
       "<caption>OLS Regression Results</caption>\n",
       "<tr>\n",
       "  <th>Dep. Variable:</th>         <td>salary</td>      <th>  R-squared:         </th> <td>   0.735</td>\n",
       "</tr>\n",
       "<tr>\n",
       "  <th>Model:</th>                   <td>OLS</td>       <th>  Adj. R-squared:    </th> <td>   0.720</td>\n",
       "</tr>\n",
       "<tr>\n",
       "  <th>Method:</th>             <td>Least Squares</td>  <th>  F-statistic:       </th> <td>   51.24</td>\n",
       "</tr>\n",
       "<tr>\n",
       "  <th>Date:</th>             <td>Wed, 15 Mar 2023</td> <th>  Prob (F-statistic):</th> <td>2.18e-11</td>\n",
       "</tr>\n",
       "<tr>\n",
       "  <th>Time:</th>                 <td>08:48:37</td>     <th>  Log-Likelihood:    </th> <td> -591.70</td>\n",
       "</tr>\n",
       "<tr>\n",
       "  <th>No. Observations:</th>      <td>    40</td>      <th>  AIC:               </th> <td>   1189.</td>\n",
       "</tr>\n",
       "<tr>\n",
       "  <th>Df Residuals:</th>          <td>    37</td>      <th>  BIC:               </th> <td>   1194.</td>\n",
       "</tr>\n",
       "<tr>\n",
       "  <th>Df Model:</th>              <td>     2</td>      <th>                     </th>     <td> </td>   \n",
       "</tr>\n",
       "<tr>\n",
       "  <th>Covariance Type:</th>      <td>nonrobust</td>    <th>                     </th>     <td> </td>   \n",
       "</tr>\n",
       "</table>\n",
       "<table class=\"simpletable\">\n",
       "<tr>\n",
       "      <td></td>        <th>coef</th>     <th>std err</th>      <th>t</th>      <th>P>|t|</th>  <th>[0.025</th>    <th>0.975]</th>  \n",
       "</tr>\n",
       "<tr>\n",
       "  <th>const</th>    <td>-8.895e+05</td> <td>  2.4e+05</td> <td>   -3.701</td> <td> 0.001</td> <td>-1.38e+06</td> <td>-4.03e+05</td>\n",
       "</tr>\n",
       "<tr>\n",
       "  <th>exp</th>      <td> 2.269e+05</td> <td> 2.31e+04</td> <td>    9.819</td> <td> 0.000</td> <td>  1.8e+05</td> <td> 2.74e+05</td>\n",
       "</tr>\n",
       "<tr>\n",
       "  <th>gender_M</th> <td> 5.084e+05</td> <td> 2.11e+05</td> <td>    2.406</td> <td> 0.021</td> <td> 8.02e+04</td> <td> 9.37e+05</td>\n",
       "</tr>\n",
       "</table>\n",
       "<table class=\"simpletable\">\n",
       "<tr>\n",
       "  <th>Omnibus:</th>       <td>14.748</td> <th>  Durbin-Watson:     </th> <td>   1.215</td>\n",
       "</tr>\n",
       "<tr>\n",
       "  <th>Prob(Omnibus):</th> <td> 0.001</td> <th>  Jarque-Bera (JB):  </th> <td>  21.336</td>\n",
       "</tr>\n",
       "<tr>\n",
       "  <th>Skew:</th>          <td> 1.015</td> <th>  Prob(JB):          </th> <td>2.33e-05</td>\n",
       "</tr>\n",
       "<tr>\n",
       "  <th>Kurtosis:</th>      <td> 5.946</td> <th>  Cond. No.          </th> <td>    24.3</td>\n",
       "</tr>\n",
       "</table><br/><br/>Notes:<br/>[1] Standard Errors assume that the covariance matrix of the errors is correctly specified."
      ],
      "text/plain": [
       "<class 'statsmodels.iolib.summary.Summary'>\n",
       "\"\"\"\n",
       "                            OLS Regression Results                            \n",
       "==============================================================================\n",
       "Dep. Variable:                 salary   R-squared:                       0.735\n",
       "Model:                            OLS   Adj. R-squared:                  0.720\n",
       "Method:                 Least Squares   F-statistic:                     51.24\n",
       "Date:                Wed, 15 Mar 2023   Prob (F-statistic):           2.18e-11\n",
       "Time:                        08:48:37   Log-Likelihood:                -591.70\n",
       "No. Observations:                  40   AIC:                             1189.\n",
       "Df Residuals:                      37   BIC:                             1194.\n",
       "Df Model:                           2                                         \n",
       "Covariance Type:            nonrobust                                         \n",
       "==============================================================================\n",
       "                 coef    std err          t      P>|t|      [0.025      0.975]\n",
       "------------------------------------------------------------------------------\n",
       "const      -8.895e+05    2.4e+05     -3.701      0.001   -1.38e+06   -4.03e+05\n",
       "exp         2.269e+05   2.31e+04      9.819      0.000     1.8e+05    2.74e+05\n",
       "gender_M    5.084e+05   2.11e+05      2.406      0.021    8.02e+04    9.37e+05\n",
       "==============================================================================\n",
       "Omnibus:                       14.748   Durbin-Watson:                   1.215\n",
       "Prob(Omnibus):                  0.001   Jarque-Bera (JB):               21.336\n",
       "Skew:                           1.015   Prob(JB):                     2.33e-05\n",
       "Kurtosis:                       5.946   Cond. No.                         24.3\n",
       "==============================================================================\n",
       "\n",
       "Notes:\n",
       "[1] Standard Errors assume that the covariance matrix of the errors is correctly specified.\n",
       "\"\"\""
      ]
     },
     "execution_count": 149,
     "metadata": {},
     "output_type": "execute_result"
    }
   ],
   "source": [
    "model.summary()"
   ]
  },
  {
   "cell_type": "markdown",
   "id": "c7c8fec4",
   "metadata": {},
   "source": [
    "#### The above says P values in dummy variable is less then 0.05 so it is signifincant. The way it is interpreted as  the salary of males is 5.084e+05 (508400) more than female given the experence is same"
   ]
  },
  {
   "cell_type": "markdown",
   "id": "c5402fd7",
   "metadata": {},
   "source": [
    "#### Following are the Hypothesis for each of our variables..\n",
    "\n",
    "Feature - Experience\n",
    "\n",
    "* Null Hypothesis: There is no change in salary with change in experience\n",
    "\n",
    "* Alternate Hypothesis: There is strong linear relationship between experience and salary\n",
    "\n",
    "* P-value Analysis: The P-value comes out to be 0.000, which is less than our significance level 0.05. Hence, this proves that there is a strong relationship between exp and salary which was also concluded by our EDA scatter plot analyis above.\n",
    "\n",
    "Conclusion: We can reject null hypothesis with evidence. Therefore, exp is strong indicator for predicting our salary."
   ]
  },
  {
   "cell_type": "code",
   "execution_count": 183,
   "id": "e273b834",
   "metadata": {},
   "outputs": [
    {
     "data": {
      "image/png": "[encoded data removed]",
      "text/plain": [
       "<IPython.core.display.Image object>"
      ]
     },
     "metadata": {},
     "output_type": "display_data"
    }
   ],
   "source": [
    "cap.show()"
   ]
  },
  {
   "cell_type": "markdown",
   "id": "5665e72d",
   "metadata": {},
   "source": [
    "#### Following are the Hypothesis for each of our variables..\n",
    "\n",
    "Feature - Gender_M (categorical feature with 0 and 1 value)\n",
    "\n",
    "* (H0) Null Hypothesis: The gender does not have any impact on salary\n",
    "\n",
    "* (Ha) Alternate Hypothesis: There is a strong relationship between gender and salary.\n",
    "\n",
    "The above two hypothesis have another nested hypothesis, which gets finer information about Male and Female salary in particular. Let's name it H01 and Ha01\n",
    "\n",
    "* H01 * - Whether it is a male or female, the salary is not gonna get impacted by gender.\n",
    "* Ha01 - The salary is gonna be different for males and females.\n",
    "\n",
    "* P-value Analysis: The P-value comes out to be 0.021 from the plot above, which is less than our significance level 0.05. Hence, this proves that there is a strong relationship between gender_M(Male Gender) and salary which was also concluded by our EDA scatter plot analyis above.\n",
    "\n",
    "Conclusion: We can reject null hypothesis with evidence that \n",
    "\n",
    "1. Salaries are affected by gender\n",
    "2. There would be a difference in salaries for male and female."
   ]
  },
  {
   "cell_type": "markdown",
   "id": "65102aad",
   "metadata": {},
   "source": [
    "#### Dry run of our linear regression model"
   ]
  },
  {
   "cell_type": "code",
   "execution_count": 174,
   "id": "d94a4510",
   "metadata": {},
   "outputs": [],
   "source": [
    "exp = 15\n",
    "gender_M = 0 #(female)"
   ]
  },
  {
   "cell_type": "code",
   "execution_count": 175,
   "id": "05a80aba",
   "metadata": {},
   "outputs": [],
   "source": [
    "# forming equation by rounding off some numbers..\n",
    "female_salary = 2*exp + 5*gender_M - 8.8\n",
    "\n",
    "gender_M = 1 #(male)\n",
    "\n",
    "male_salary = 2*exp + 5*gender_M - 8.8"
   ]
  },
  {
   "cell_type": "code",
   "execution_count": 176,
   "id": "0de91f78",
   "metadata": {},
   "outputs": [
    {
     "data": {
      "text/plain": [
       "(21.2, 26.2)"
      ]
     },
     "execution_count": 176,
     "metadata": {},
     "output_type": "execute_result"
    }
   ],
   "source": [
    "female_salary, male_salary"
   ]
  },
  {
   "cell_type": "markdown",
   "id": "d64f93f8",
   "metadata": {},
   "source": [
    "#### Conclusion:\n",
    "\n",
    "*Difference of 5 units is observed in Male's salary and Female's salary.*"
   ]
  }
 ],
 "metadata": {
  "kernelspec": {
   "display_name": "Python 3",
   "language": "python",
   "name": "python3"
  },
  "language_info": {
   "codemirror_mode": {
    "name": "ipython",
    "version": 3
   },
   "file_extension": ".py",
   "mimetype": "text/x-python",
   "name": "python",
   "nbconvert_exporter": "python",
   "pygments_lexer": "ipython3",
   "version": "3.10.7 (v3.10.7:6cc6b13308, Sep  5 2022, 14:02:52) [Clang 13.0.0 (clang-1300.0.29.30)]"
  },
  "vscode": {
   "interpreter": {
    "hash": "aee8b7b246df8f9039afb4144a1f6fd8d2ca17a180786b69acc140d282b71a49"
   }
  }
 },
 "nbformat": 4,
 "nbformat_minor": 5
}
