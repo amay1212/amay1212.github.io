{
 "cells": [
  {
   "cell_type": "raw",
   "metadata": {},
   "source": [
    "---\n",
    "aliases:\n",
    "- /2022/05/31/Partial-Functions\n",
    "date: '2022-05-31'\n",
    "description: functool Partial Functions\n",
    "author: 'Amay Trivedi'\n",
    "output-file: 2022-05-31-partial-functions.html\n",
    "title: Partial Functions In Python\n",
    "categories: [Python, Machine Learning, Design Patterns]\n",
    "---\n",
    "\n"
   ]
  },
  {
   "cell_type": "markdown",
   "id": "ed8bc567",
   "metadata": {},
   "source": []
  },
  {
   "cell_type": "code",
   "execution_count": 81,
   "id": "ac46332c",
   "metadata": {},
   "outputs": [],
   "source": [
    "from typing import Callable\n",
    "def add(a: float, b: float) -> float:\n",
    "    return (a+b)"
   ]
  },
  {
   "cell_type": "code",
   "execution_count": 82,
   "id": "c731ae2d",
   "metadata": {},
   "outputs": [],
   "source": [
    "def make_adder(a: float) -> Callable[[float], float]:\n",
    "    def add_inner(b: float) -> float:\n",
    "        return add(a, b)\n",
    "    return add_inner"
   ]
  },
  {
   "cell_type": "code",
   "execution_count": 83,
   "id": "eb50bced",
   "metadata": {},
   "outputs": [],
   "source": [
    "add_num = make_adder(2)"
   ]
  },
  {
   "cell_type": "code",
   "execution_count": 84,
   "id": "221a5a46",
   "metadata": {},
   "outputs": [
    {
     "data": {
      "text/plain": [
       "4"
      ]
     },
     "execution_count": 84,
     "metadata": {},
     "output_type": "execute_result"
    }
   ],
   "source": [
    "add_num(2)"
   ]
  },
  {
   "cell_type": "code",
   "execution_count": 85,
   "id": "ea645fba",
   "metadata": {},
   "outputs": [],
   "source": [
    "# Optimising further our code..\n",
    "def make_adder(a: float) -> Callable[[float], float]:\n",
    "    return lambda b: add(a, b)"
   ]
  },
  {
   "cell_type": "code",
   "execution_count": 86,
   "id": "bf1f638c",
   "metadata": {},
   "outputs": [],
   "source": [
    "add_num = make_adder(20)"
   ]
  },
  {
   "cell_type": "code",
   "execution_count": 87,
   "id": "74fa03db",
   "metadata": {},
   "outputs": [
    {
     "data": {
      "text/plain": [
       "54"
      ]
     },
     "execution_count": 87,
     "metadata": {},
     "output_type": "execute_result"
    }
   ],
   "source": [
    "add_num(34)"
   ]
  },
  {
   "cell_type": "markdown",
   "id": "0d49b254",
   "metadata": {},
   "source": [
    "The working is as follows:\n",
    "\n",
    "1. We defined the add function, which is not exposed directly and is wrapped inside make_adder function, which we want to be a public function.\n",
    "\n",
    "2. We are passing a partial argument here of type float, in this case we named it \"a\".\n",
    "\n",
    "3. We then defined an inner function add_inner function which is another function takes parameter of type float again as \"b\".\n",
    "\n",
    "4. Now coming to the function calling part.\n",
    "\n",
    "------------------------------------------------------------------------------------------\n",
    "\n",
    "*add_num = make_adder(2) -> STEP 1*\n",
    "\n",
    "*Returns us the inner function object, note it is not yet called.*\n",
    "\n",
    "- *add_num(4) -> Output : 6 -> STEP 2*\n",
    "\n",
    "Why?\n",
    "\n",
    "\n",
    "The logic is more like make_adder says Hey! I will take a partial parameter and keep a track of it.*\n",
    "\n",
    "Therefore, STEP 1 gives us just the object of inner function while still storing the parameter \"a\". \n",
    "\n",
    "------------------------------------------------------------------------------------------\n",
    "\n",
    "In STEP 2, similar thing follows:\n",
    "\n",
    "Now, so far we just have the variable add_num from STEP 1, which stores the inner function add_inner.\n",
    "\n",
    "#### We definitely need a float output, enough with the Christopher Nolan's Inception thing.\n",
    "\n",
    "*add_num(4) -> This simply means call the inner function which takes another partial argument as \"b\" and calls the magical method add JK :D(not so magical). This is more like a concept of partial functions implemented in functools with additional usages..*\n"
   ]
  },
  {
   "cell_type": "code",
   "execution_count": 88,
   "id": "424512a2",
   "metadata": {},
   "outputs": [],
   "source": [
    "# Implementing what is already implemented...\n",
    "from functools import partial\n",
    "\n",
    "# Let's again define add function. Just for explanation purpose..\n",
    "def add(a: float, b: float):\n",
    "    return (a+b)\n",
    "\n",
    "add_num = partial(add, 6)"
   ]
  },
  {
   "cell_type": "code",
   "execution_count": 89,
   "id": "b8c7078e",
   "metadata": {},
   "outputs": [
    {
     "data": {
      "text/plain": [
       "17"
      ]
     },
     "execution_count": 89,
     "metadata": {},
     "output_type": "execute_result"
    }
   ],
   "source": [
    "add_num(11)"
   ]
  },
  {
   "cell_type": "markdown",
   "id": "9a108b4f",
   "metadata": {},
   "source": [
    "Voila!\n"
   ]
  },
  {
   "cell_type": "markdown",
   "id": "4f0efb34",
   "metadata": {},
   "source": [
    "### Reusability With Partial Functions\n",
    "\n",
    "Below code snippets define some basic code reusability in terms of model building combined with partial functionality\n",
    "\n",
    "The two aspect it covers:-\n",
    "\n",
    "1. We first pass only the partial parameter to the partial function i.e \"model_name\" in our example.\n",
    "2. We then pass in multiple datasets to run our model onto which gets executed much faster..."
   ]
  },
  {
   "cell_type": "code",
   "execution_count": 90,
   "id": "ba72e3f3",
   "metadata": {},
   "outputs": [],
   "source": [
    "def learner_partial(model, dataset):\n",
    "    print(f'Model learn {model=},  {dataset=}')\n",
    "    return \"Model\""
   ]
  },
  {
   "cell_type": "code",
   "execution_count": 91,
   "id": "1da98a1d",
   "metadata": {},
   "outputs": [],
   "source": [
    "generate_model = partial(learner_partial, \"models.resnet34\")"
   ]
  },
  {
   "cell_type": "code",
   "execution_count": 92,
   "id": "a1aae419",
   "metadata": {},
   "outputs": [
    {
     "name": "stdout",
     "output_type": "stream",
     "text": [
      "Model learn model='models.resnet34',  dataset='d1'\n",
      "Model learn model='models.resnet34',  dataset='d2'\n"
     ]
    },
    {
     "data": {
      "text/plain": [
       "'Model'"
      ]
     },
     "execution_count": 92,
     "metadata": {},
     "output_type": "execute_result"
    }
   ],
   "source": [
    "# pass the arguments, only pass the remaining arguments\n",
    "generate_model(\"d1\")\n",
    "generate_model(\"d2\")"
   ]
  },
  {
   "cell_type": "code",
   "execution_count": 93,
   "id": "b55a5d5d",
   "metadata": {},
   "outputs": [],
   "source": [
    "generate_model = partial(learner_partial, model = \"models.resnet18\")"
   ]
  },
  {
   "cell_type": "code",
   "execution_count": 94,
   "id": "15f4a4d7",
   "metadata": {},
   "outputs": [
    {
     "name": "stdout",
     "output_type": "stream",
     "text": [
      "Model learn model='models.resnet18',  dataset='d3'\n"
     ]
    },
    {
     "data": {
      "text/plain": [
       "'Model'"
      ]
     },
     "execution_count": 94,
     "metadata": {},
     "output_type": "execute_result"
    }
   ],
   "source": [
    "generate_model(dataset = \"d3\")"
   ]
  },
  {
   "cell_type": "code",
   "execution_count": 95,
   "id": "bb6de480",
   "metadata": {},
   "outputs": [],
   "source": [
    "generate_model = partial(learner_partial, dataset = \"d4\")"
   ]
  },
  {
   "cell_type": "code",
   "execution_count": 96,
   "id": "a2716f8f",
   "metadata": {},
   "outputs": [
    {
     "name": "stdout",
     "output_type": "stream",
     "text": [
      "Model learn model='m4',  dataset='d4'\n"
     ]
    },
    {
     "data": {
      "text/plain": [
       "'Model'"
      ]
     },
     "execution_count": 96,
     "metadata": {},
     "output_type": "execute_result"
    }
   ],
   "source": [
    "generate_model(\"m4\")"
   ]
  },
  {
   "cell_type": "markdown",
   "id": "cd748c96",
   "metadata": {},
   "source": [
    "#### Final Thoughts\n",
    "Python Standard Library has great tools for your disposal. The functools module has great ways to make your code cleaner, simpler, and sometimes even faster!"
   ]
  }
 ],
 "metadata": {
  "kernelspec": {
   "display_name": "Python 3",
   "language": "python",
   "name": "python3"
  },
  "language_info": {
   "codemirror_mode": {
    "name": "ipython",
    "version": 3
   },
   "file_extension": ".py",
   "mimetype": "text/x-python",
   "name": "python",
   "nbconvert_exporter": "python",
   "pygments_lexer": "ipython3",
   "version": "3.10.7"
  },
  "vscode": {
   "interpreter": {
    "hash": "aee8b7b246df8f9039afb4144a1f6fd8d2ca17a180786b69acc140d282b71a49"
   }
  }
 },
 "nbformat": 4,
 "nbformat_minor": 5
}
